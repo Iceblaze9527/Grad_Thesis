{
 "cells": [
  {
   "cell_type": "code",
   "execution_count": null,
   "metadata": {},
   "outputs": [],
   "source": [
    "#!/usr/bin/python\n",
    "# -*- coding: UTF-8 -*-\n",
    "#import chardet\n",
    "import os\n",
    "import sys \n",
    "import time\n",
    "import logging\n",
    "\n",
    "import spidev\n",
    "from PIL import Image,ImageDraw,ImageFont\n",
    "\n",
    "from lib.waveshare_LCD2inch4 import LCD_2inch4"
   ]
  },
  {
   "cell_type": "code",
   "execution_count": null,
   "metadata": {},
   "outputs": [],
   "source": [
    "RST_L = 27\n",
    "DC_L = 25\n",
    "BL_L = 18\n",
    "BUS_L = 0\n",
    "DEV_L = 0\n",
    "\n",
    "RST_R = 26\n",
    "DC_R = 6\n",
    "BL_R = 16\n",
    "BUS_R = 1\n",
    "DEV_R = 1\n",
    "\n",
    "root_path = '/home/pi'\n",
    "img_name_l = 'test.png'\n",
    "img_name_r = 'test.jpg'"
   ]
  },
  {
   "cell_type": "code",
   "execution_count": null,
   "metadata": {},
   "outputs": [],
   "source": [
    "img_path_l = os.path.join(root_path, img_name_l)\n",
    "img_path_r = os.path.join(root_path, img_name_r)\n",
    "\n",
    "logging.basicConfig(level=logging.INFO)"
   ]
  },
  {
   "cell_type": "code",
   "execution_count": null,
   "metadata": {},
   "outputs": [],
   "source": [
    "try:\n",
    "    # display with hardware SPI:\n",
    "    ''' Warning!!!Don't create multiple displayer objects!!! '''\n",
    "    disp_l = LCD_2inch4.LCD_2inch4(spi=spidev.SpiDev(BUS_L,DEV_L), rst=RST_L, dc=DC_L, bl=BL_L, spi_freq=40000000)\n",
    "    disp_l.Init()\n",
    "    disp_l.clear()\n",
    "    \n",
    "    disp_r = LCD_2inch4.LCD_2inch4(spi=spidev.SpiDev(BUS_R,DEV_R), rst=RST_R, dc=DC_R, bl=BL_R, spi_freq=40000000)\n",
    "    disp_r.Init()\n",
    "    disp_r.clear()\n",
    "\n",
    "    image_l = Image.open(img_path_l)\n",
    "    image_l = image_l.rotate(0)\n",
    "    disp_l.ShowImage(image_l)\n",
    "    logging.info(\"show left image\")\n",
    "    \n",
    "    image_r = Image.open(img_path_r)\n",
    "    image_r = image_r.rotate(0)\n",
    "    disp_r.ShowImage(image_r)\n",
    "    logging.info(\"show right image\")\n",
    "    \n",
    "    disp_l.clear()\n",
    "    disp_r.clear()\n",
    "    disp_l.ShowImage(image_r)\n",
    "    disp_r.ShowImage(image_l)\n",
    "    \n",
    "    time.sleep(3)\n",
    "    disp_l.module_exit()\n",
    "    logging.info(\"quit left\")\n",
    "    \n",
    "    disp_r.module_exit()\n",
    "    logging.info(\"quit right\")\n",
    "\n",
    "except IOError as e:\n",
    "    logging.info(e)    \n",
    "\n",
    "except KeyboardInterrupt:\n",
    "    time.sleep(3)\n",
    "    disp_l.module_exit()\n",
    "    logging.info(\"quit left\")\n",
    "    \n",
    "    disp_r.module_exit()\n",
    "    logging.info(\"quit right\")\n",
    "    exit()"
   ]
  },
  {
   "cell_type": "code",
   "execution_count": null,
   "metadata": {},
   "outputs": [],
   "source": []
  }
 ],
 "metadata": {
  "kernelspec": {
   "display_name": "Python 3",
   "language": "python",
   "name": "python3"
  },
  "language_info": {
   "codemirror_mode": {
    "name": "ipython",
    "version": 3
   },
   "file_extension": ".py",
   "mimetype": "text/x-python",
   "name": "python",
   "nbconvert_exporter": "python",
   "pygments_lexer": "ipython3",
   "version": "3.7.3"
  }
 },
 "nbformat": 4,
 "nbformat_minor": 2
}
